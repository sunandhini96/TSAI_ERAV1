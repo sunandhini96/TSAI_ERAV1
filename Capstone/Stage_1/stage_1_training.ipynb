{
  "nbformat": 4,
  "nbformat_minor": 0,
  "metadata": {
    "colab": {
      "provenance": [],
      "machine_shape": "hm",
      "gpuType": "A100",
      "mount_file_id": "1ZFdeJmmmcvBdBirTykn5e-A31cKs00aw",
      "authorship_tag": "ABX9TyMrUKAPZNAMVWOfegRGal5e",
      "include_colab_link": true
    },
    "kernelspec": {
      "name": "python3",
      "display_name": "Python 3"
    },
    "language_info": {
      "name": "python"
    },
    "accelerator": "GPU",
    "widgets": {
      "application/vnd.jupyter.widget-state+json": {
        "1bafcd86b67b4b618e3a638723b7ec31": {
          "model_module": "@jupyter-widgets/controls",
          "model_name": "HBoxModel",
          "model_module_version": "1.5.0",
          "state": {
            "_dom_classes": [],
            "_model_module": "@jupyter-widgets/controls",
            "_model_module_version": "1.5.0",
            "_model_name": "HBoxModel",
            "_view_count": null,
            "_view_module": "@jupyter-widgets/controls",
            "_view_module_version": "1.5.0",
            "_view_name": "HBoxView",
            "box_style": "",
            "children": [
              "IPY_MODEL_b6a8535e90d14565a59a8b37f6324c13",
              "IPY_MODEL_c5ac5650a0744a9e99d1c1d36725c6a2",
              "IPY_MODEL_1523c9a96334464bbd9c320d8a20ed9f"
            ],
            "layout": "IPY_MODEL_b8b47460c3af459cbc4fce47bf87bdc9"
          }
        },
        "b6a8535e90d14565a59a8b37f6324c13": {
          "model_module": "@jupyter-widgets/controls",
          "model_name": "HTMLModel",
          "model_module_version": "1.5.0",
          "state": {
            "_dom_classes": [],
            "_model_module": "@jupyter-widgets/controls",
            "_model_module_version": "1.5.0",
            "_model_name": "HTMLModel",
            "_view_count": null,
            "_view_module": "@jupyter-widgets/controls",
            "_view_module_version": "1.5.0",
            "_view_name": "HTMLView",
            "description": "",
            "description_tooltip": null,
            "layout": "IPY_MODEL_151409b6416b4d658d09c8eb238c0306",
            "placeholder": "​",
            "style": "IPY_MODEL_c16122c1231c4b159a967012522f5be7",
            "value": "Loading checkpoint shards: 100%"
          }
        },
        "c5ac5650a0744a9e99d1c1d36725c6a2": {
          "model_module": "@jupyter-widgets/controls",
          "model_name": "FloatProgressModel",
          "model_module_version": "1.5.0",
          "state": {
            "_dom_classes": [],
            "_model_module": "@jupyter-widgets/controls",
            "_model_module_version": "1.5.0",
            "_model_name": "FloatProgressModel",
            "_view_count": null,
            "_view_module": "@jupyter-widgets/controls",
            "_view_module_version": "1.5.0",
            "_view_name": "ProgressView",
            "bar_style": "success",
            "description": "",
            "description_tooltip": null,
            "layout": "IPY_MODEL_4df33152cb17463fba6354a4dc01e106",
            "max": 2,
            "min": 0,
            "orientation": "horizontal",
            "style": "IPY_MODEL_66c24588023347369ef2deebabd73546",
            "value": 2
          }
        },
        "1523c9a96334464bbd9c320d8a20ed9f": {
          "model_module": "@jupyter-widgets/controls",
          "model_name": "HTMLModel",
          "model_module_version": "1.5.0",
          "state": {
            "_dom_classes": [],
            "_model_module": "@jupyter-widgets/controls",
            "_model_module_version": "1.5.0",
            "_model_name": "HTMLModel",
            "_view_count": null,
            "_view_module": "@jupyter-widgets/controls",
            "_view_module_version": "1.5.0",
            "_view_name": "HTMLView",
            "description": "",
            "description_tooltip": null,
            "layout": "IPY_MODEL_730f4790521e45228303cf603251d2a2",
            "placeholder": "​",
            "style": "IPY_MODEL_5ef4d90a7f784c538f1d2167055385b1",
            "value": " 2/2 [00:01&lt;00:00,  1.56it/s]"
          }
        },
        "b8b47460c3af459cbc4fce47bf87bdc9": {
          "model_module": "@jupyter-widgets/base",
          "model_name": "LayoutModel",
          "model_module_version": "1.2.0",
          "state": {
            "_model_module": "@jupyter-widgets/base",
            "_model_module_version": "1.2.0",
            "_model_name": "LayoutModel",
            "_view_count": null,
            "_view_module": "@jupyter-widgets/base",
            "_view_module_version": "1.2.0",
            "_view_name": "LayoutView",
            "align_content": null,
            "align_items": null,
            "align_self": null,
            "border": null,
            "bottom": null,
            "display": null,
            "flex": null,
            "flex_flow": null,
            "grid_area": null,
            "grid_auto_columns": null,
            "grid_auto_flow": null,
            "grid_auto_rows": null,
            "grid_column": null,
            "grid_gap": null,
            "grid_row": null,
            "grid_template_areas": null,
            "grid_template_columns": null,
            "grid_template_rows": null,
            "height": null,
            "justify_content": null,
            "justify_items": null,
            "left": null,
            "margin": null,
            "max_height": null,
            "max_width": null,
            "min_height": null,
            "min_width": null,
            "object_fit": null,
            "object_position": null,
            "order": null,
            "overflow": null,
            "overflow_x": null,
            "overflow_y": null,
            "padding": null,
            "right": null,
            "top": null,
            "visibility": null,
            "width": null
          }
        },
        "151409b6416b4d658d09c8eb238c0306": {
          "model_module": "@jupyter-widgets/base",
          "model_name": "LayoutModel",
          "model_module_version": "1.2.0",
          "state": {
            "_model_module": "@jupyter-widgets/base",
            "_model_module_version": "1.2.0",
            "_model_name": "LayoutModel",
            "_view_count": null,
            "_view_module": "@jupyter-widgets/base",
            "_view_module_version": "1.2.0",
            "_view_name": "LayoutView",
            "align_content": null,
            "align_items": null,
            "align_self": null,
            "border": null,
            "bottom": null,
            "display": null,
            "flex": null,
            "flex_flow": null,
            "grid_area": null,
            "grid_auto_columns": null,
            "grid_auto_flow": null,
            "grid_auto_rows": null,
            "grid_column": null,
            "grid_gap": null,
            "grid_row": null,
            "grid_template_areas": null,
            "grid_template_columns": null,
            "grid_template_rows": null,
            "height": null,
            "justify_content": null,
            "justify_items": null,
            "left": null,
            "margin": null,
            "max_height": null,
            "max_width": null,
            "min_height": null,
            "min_width": null,
            "object_fit": null,
            "object_position": null,
            "order": null,
            "overflow": null,
            "overflow_x": null,
            "overflow_y": null,
            "padding": null,
            "right": null,
            "top": null,
            "visibility": null,
            "width": null
          }
        },
        "c16122c1231c4b159a967012522f5be7": {
          "model_module": "@jupyter-widgets/controls",
          "model_name": "DescriptionStyleModel",
          "model_module_version": "1.5.0",
          "state": {
            "_model_module": "@jupyter-widgets/controls",
            "_model_module_version": "1.5.0",
            "_model_name": "DescriptionStyleModel",
            "_view_count": null,
            "_view_module": "@jupyter-widgets/base",
            "_view_module_version": "1.2.0",
            "_view_name": "StyleView",
            "description_width": ""
          }
        },
        "4df33152cb17463fba6354a4dc01e106": {
          "model_module": "@jupyter-widgets/base",
          "model_name": "LayoutModel",
          "model_module_version": "1.2.0",
          "state": {
            "_model_module": "@jupyter-widgets/base",
            "_model_module_version": "1.2.0",
            "_model_name": "LayoutModel",
            "_view_count": null,
            "_view_module": "@jupyter-widgets/base",
            "_view_module_version": "1.2.0",
            "_view_name": "LayoutView",
            "align_content": null,
            "align_items": null,
            "align_self": null,
            "border": null,
            "bottom": null,
            "display": null,
            "flex": null,
            "flex_flow": null,
            "grid_area": null,
            "grid_auto_columns": null,
            "grid_auto_flow": null,
            "grid_auto_rows": null,
            "grid_column": null,
            "grid_gap": null,
            "grid_row": null,
            "grid_template_areas": null,
            "grid_template_columns": null,
            "grid_template_rows": null,
            "height": null,
            "justify_content": null,
            "justify_items": null,
            "left": null,
            "margin": null,
            "max_height": null,
            "max_width": null,
            "min_height": null,
            "min_width": null,
            "object_fit": null,
            "object_position": null,
            "order": null,
            "overflow": null,
            "overflow_x": null,
            "overflow_y": null,
            "padding": null,
            "right": null,
            "top": null,
            "visibility": null,
            "width": null
          }
        },
        "66c24588023347369ef2deebabd73546": {
          "model_module": "@jupyter-widgets/controls",
          "model_name": "ProgressStyleModel",
          "model_module_version": "1.5.0",
          "state": {
            "_model_module": "@jupyter-widgets/controls",
            "_model_module_version": "1.5.0",
            "_model_name": "ProgressStyleModel",
            "_view_count": null,
            "_view_module": "@jupyter-widgets/base",
            "_view_module_version": "1.2.0",
            "_view_name": "StyleView",
            "bar_color": null,
            "description_width": ""
          }
        },
        "730f4790521e45228303cf603251d2a2": {
          "model_module": "@jupyter-widgets/base",
          "model_name": "LayoutModel",
          "model_module_version": "1.2.0",
          "state": {
            "_model_module": "@jupyter-widgets/base",
            "_model_module_version": "1.2.0",
            "_model_name": "LayoutModel",
            "_view_count": null,
            "_view_module": "@jupyter-widgets/base",
            "_view_module_version": "1.2.0",
            "_view_name": "LayoutView",
            "align_content": null,
            "align_items": null,
            "align_self": null,
            "border": null,
            "bottom": null,
            "display": null,
            "flex": null,
            "flex_flow": null,
            "grid_area": null,
            "grid_auto_columns": null,
            "grid_auto_flow": null,
            "grid_auto_rows": null,
            "grid_column": null,
            "grid_gap": null,
            "grid_row": null,
            "grid_template_areas": null,
            "grid_template_columns": null,
            "grid_template_rows": null,
            "height": null,
            "justify_content": null,
            "justify_items": null,
            "left": null,
            "margin": null,
            "max_height": null,
            "max_width": null,
            "min_height": null,
            "min_width": null,
            "object_fit": null,
            "object_position": null,
            "order": null,
            "overflow": null,
            "overflow_x": null,
            "overflow_y": null,
            "padding": null,
            "right": null,
            "top": null,
            "visibility": null,
            "width": null
          }
        },
        "5ef4d90a7f784c538f1d2167055385b1": {
          "model_module": "@jupyter-widgets/controls",
          "model_name": "DescriptionStyleModel",
          "model_module_version": "1.5.0",
          "state": {
            "_model_module": "@jupyter-widgets/controls",
            "_model_module_version": "1.5.0",
            "_model_name": "DescriptionStyleModel",
            "_view_count": null,
            "_view_module": "@jupyter-widgets/base",
            "_view_module_version": "1.2.0",
            "_view_name": "StyleView",
            "description_width": ""
          }
        }
      }
    }
  },
  "cells": [
    {
      "cell_type": "markdown",
      "metadata": {
        "id": "view-in-github",
        "colab_type": "text"
      },
      "source": [
        "<a href=\"https://colab.research.google.com/github/sunandhini96/TSAI_ERAV1/blob/main/Capstone/Stage_1/stage_1_training.ipynb\" target=\"_parent\"><img src=\"https://colab.research.google.com/assets/colab-badge.svg\" alt=\"Open In Colab\"/></a>"
      ]
    },
    {
      "cell_type": "code",
      "source": [
        "from google.colab import drive\n",
        "drive.mount('/content/drive')"
      ],
      "metadata": {
        "colab": {
          "base_uri": "https://localhost:8080/"
        },
        "id": "IQUH-m2jsp7Z",
        "outputId": "981a76d8-e6d4-4ef6-b7a6-1edec4e531a8"
      },
      "execution_count": 1,
      "outputs": [
        {
          "output_type": "stream",
          "name": "stdout",
          "text": [
            "Drive already mounted at /content/drive; to attempt to forcibly remount, call drive.mount(\"/content/drive\", force_remount=True).\n"
          ]
        }
      ]
    },
    {
      "cell_type": "code",
      "execution_count": 2,
      "metadata": {
        "colab": {
          "base_uri": "https://localhost:8080/"
        },
        "id": "5sJb1AX-jCWd",
        "outputId": "239f728c-7778-4a96-94bc-c25e2cd0d975"
      },
      "outputs": [
        {
          "output_type": "stream",
          "name": "stdout",
          "text": [
            "/content/drive/MyDrive/capstone\n"
          ]
        }
      ],
      "source": [
        "cd /content/drive/MyDrive/capstone"
      ]
    },
    {
      "cell_type": "code",
      "source": [
        "# import os\n",
        "# import zipfile\n",
        "\n",
        "# # Directory containing the ZIP files\n",
        "# zip_dir = '/content/drive/MyDrive/capstone/'\n",
        "\n",
        "# # Iterate over the files in the directory\n",
        "# for file_name in os.listdir(zip_dir):\n",
        "#     if file_name.endswith('.zip'):  # Check if the file is a ZIP file\n",
        "#         file_path = os.path.join(zip_dir, file_name)\n",
        "#         output_dir = zip_dir  # Extract to the same directory\n",
        "#         with zipfile.ZipFile(file_path, 'r') as zip_ref:\n",
        "#             zip_ref.extractall(output_dir)\n",
        "#             print(f\"Extracted {file_name} to {output_dir}\")\n"
      ],
      "metadata": {
        "id": "gndfxiheqoxP"
      },
      "execution_count": null,
      "outputs": []
    },
    {
      "cell_type": "code",
      "source": [],
      "metadata": {
        "id": "ul_M8IW848Wi"
      },
      "execution_count": null,
      "outputs": []
    },
    {
      "cell_type": "code",
      "source": [
        "# import os\n",
        "\n",
        "# # Directory containing the files\n",
        "# directory = '/content/drive/MyDrive/capstone/train2017/'\n",
        "\n",
        "# # Get the list of files in the directory\n",
        "# files = os.listdir(directory)\n",
        "\n",
        "# # Count the number of files\n",
        "# num_files = len(files)\n",
        "\n",
        "# print(f'Number of files in directory: {num_files}')\n"
      ],
      "metadata": {
        "id": "4tLh-652w4rb"
      },
      "execution_count": null,
      "outputs": []
    },
    {
      "cell_type": "code",
      "source": [
        "!git clone https://github.com/sunandhini96/TSAI_ERAV1.git"
      ],
      "metadata": {
        "colab": {
          "base_uri": "https://localhost:8080/"
        },
        "id": "GEGKzxC-sngU",
        "outputId": "2371e338-cd95-41a7-899e-8e07c7db6f2e"
      },
      "execution_count": 3,
      "outputs": [
        {
          "output_type": "stream",
          "name": "stdout",
          "text": [
            "fatal: destination path 'TSAI_ERAV1' already exists and is not an empty directory.\n"
          ]
        }
      ]
    },
    {
      "cell_type": "code",
      "source": [
        "cd /content/drive/MyDrive/capstone/TSAI_ERAV1/Capstone/Stage_1"
      ],
      "metadata": {
        "colab": {
          "base_uri": "https://localhost:8080/"
        },
        "id": "-mCYH5mhvE-Y",
        "outputId": "f36516d2-65f2-4f91-9502-16523a71e229"
      },
      "execution_count": 4,
      "outputs": [
        {
          "output_type": "stream",
          "name": "stdout",
          "text": [
            "/content/drive/MyDrive/capstone/TSAI_ERAV1/Capstone/Stage_1\n"
          ]
        }
      ]
    },
    {
      "cell_type": "code",
      "source": [
        "!pip install -r requirements.txt"
      ],
      "metadata": {
        "colab": {
          "base_uri": "https://localhost:8080/"
        },
        "id": "vUlIsKxyvIh0",
        "outputId": "45bf2703-0fb6-4751-fba0-ea186730f830"
      },
      "execution_count": 5,
      "outputs": [
        {
          "output_type": "stream",
          "name": "stdout",
          "text": [
            "Collecting git+https://github.com/m-bain/whisperx.git (from -r requirements.txt (line 6))\n",
            "  Cloning https://github.com/m-bain/whisperx.git to /tmp/pip-req-build-ziezvb53\n",
            "  Running command git clone --filter=blob:none --quiet https://github.com/m-bain/whisperx.git /tmp/pip-req-build-ziezvb53\n",
            "  Resolved https://github.com/m-bain/whisperx.git to commit 8227807fa9e076901ea4b4fbbf79c9777a6f5e03\n",
            "  Preparing metadata (setup.py) ... \u001b[?25l\u001b[?25hdone\n",
            "Requirement already satisfied: torch in /usr/local/lib/python3.10/dist-packages (from -r requirements.txt (line 1)) (2.1.0+cu121)\n",
            "Requirement already satisfied: peft in /usr/local/lib/python3.10/dist-packages (from -r requirements.txt (line 2)) (0.8.2)\n",
            "Requirement already satisfied: accelerate in /usr/local/lib/python3.10/dist-packages (from -r requirements.txt (line 3)) (0.27.0)\n",
            "Requirement already satisfied: transformers==4.37 in /usr/local/lib/python3.10/dist-packages (from -r requirements.txt (line 4)) (4.37.0)\n",
            "Requirement already satisfied: einops in /usr/local/lib/python3.10/dist-packages (from -r requirements.txt (line 5)) (0.7.0)\n",
            "Requirement already satisfied: bitsandbytes in /usr/local/lib/python3.10/dist-packages (from -r requirements.txt (line 7)) (0.42.0)\n",
            "Requirement already satisfied: wandb in /usr/local/lib/python3.10/dist-packages (from -r requirements.txt (line 8)) (0.16.3)\n",
            "Requirement already satisfied: ffmpeg in /usr/local/lib/python3.10/dist-packages (from -r requirements.txt (line 9)) (1.4)\n",
            "Requirement already satisfied: pydub in /usr/local/lib/python3.10/dist-packages (from -r requirements.txt (line 10)) (0.25.1)\n",
            "Requirement already satisfied: gradio in /usr/local/lib/python3.10/dist-packages (from -r requirements.txt (line 11)) (4.17.0)\n",
            "Requirement already satisfied: filelock in /usr/local/lib/python3.10/dist-packages (from transformers==4.37->-r requirements.txt (line 4)) (3.13.1)\n",
            "Requirement already satisfied: huggingface-hub<1.0,>=0.19.3 in /usr/local/lib/python3.10/dist-packages (from transformers==4.37->-r requirements.txt (line 4)) (0.20.3)\n",
            "Requirement already satisfied: numpy>=1.17 in /usr/local/lib/python3.10/dist-packages (from transformers==4.37->-r requirements.txt (line 4)) (1.23.5)\n",
            "Requirement already satisfied: packaging>=20.0 in /usr/local/lib/python3.10/dist-packages (from transformers==4.37->-r requirements.txt (line 4)) (23.2)\n",
            "Requirement already satisfied: pyyaml>=5.1 in /usr/local/lib/python3.10/dist-packages (from transformers==4.37->-r requirements.txt (line 4)) (6.0.1)\n",
            "Requirement already satisfied: regex!=2019.12.17 in /usr/local/lib/python3.10/dist-packages (from transformers==4.37->-r requirements.txt (line 4)) (2023.12.25)\n",
            "Requirement already satisfied: requests in /usr/local/lib/python3.10/dist-packages (from transformers==4.37->-r requirements.txt (line 4)) (2.31.0)\n",
            "Requirement already satisfied: tokenizers<0.19,>=0.14 in /usr/local/lib/python3.10/dist-packages (from transformers==4.37->-r requirements.txt (line 4)) (0.15.1)\n",
            "Requirement already satisfied: safetensors>=0.3.1 in /usr/local/lib/python3.10/dist-packages (from transformers==4.37->-r requirements.txt (line 4)) (0.4.2)\n",
            "Requirement already satisfied: tqdm>=4.27 in /usr/local/lib/python3.10/dist-packages (from transformers==4.37->-r requirements.txt (line 4)) (4.66.1)\n",
            "Requirement already satisfied: typing-extensions in /usr/local/lib/python3.10/dist-packages (from torch->-r requirements.txt (line 1)) (4.9.0)\n",
            "Requirement already satisfied: sympy in /usr/local/lib/python3.10/dist-packages (from torch->-r requirements.txt (line 1)) (1.12)\n",
            "Requirement already satisfied: networkx in /usr/local/lib/python3.10/dist-packages (from torch->-r requirements.txt (line 1)) (3.2.1)\n",
            "Requirement already satisfied: jinja2 in /usr/local/lib/python3.10/dist-packages (from torch->-r requirements.txt (line 1)) (3.1.3)\n",
            "Requirement already satisfied: fsspec in /usr/local/lib/python3.10/dist-packages (from torch->-r requirements.txt (line 1)) (2023.6.0)\n",
            "Requirement already satisfied: triton==2.1.0 in /usr/local/lib/python3.10/dist-packages (from torch->-r requirements.txt (line 1)) (2.1.0)\n",
            "Requirement already satisfied: psutil in /usr/local/lib/python3.10/dist-packages (from peft->-r requirements.txt (line 2)) (5.9.5)\n",
            "Collecting faster-whisper@ git+https://github.com/SYSTRAN/faster-whisper.git@0.10.0 (from whisperx==3.1.1->-r requirements.txt (line 6))\n",
            "  Cloning https://github.com/SYSTRAN/faster-whisper.git (to revision 0.10.0) to /tmp/pip-install-1f3fyy8d/faster-whisper_e02366c02f244574a0ca56cd883d0a96\n",
            "  Running command git clone --filter=blob:none --quiet https://github.com/SYSTRAN/faster-whisper.git /tmp/pip-install-1f3fyy8d/faster-whisper_e02366c02f244574a0ca56cd883d0a96\n",
            "  Running command git checkout -q e1a218fab1ab02d637b79565995bf1a9c4c83a09\n",
            "  Resolved https://github.com/SYSTRAN/faster-whisper.git to commit e1a218fab1ab02d637b79565995bf1a9c4c83a09\n",
            "  Preparing metadata (setup.py) ... \u001b[?25l\u001b[?25hdone\n",
            "Requirement already satisfied: torchaudio>=2 in /usr/local/lib/python3.10/dist-packages (from whisperx==3.1.1->-r requirements.txt (line 6)) (2.1.0+cu121)\n",
            "Requirement already satisfied: pandas in /usr/local/lib/python3.10/dist-packages (from whisperx==3.1.1->-r requirements.txt (line 6)) (1.5.3)\n",
            "Requirement already satisfied: setuptools>=65 in /usr/local/lib/python3.10/dist-packages (from whisperx==3.1.1->-r requirements.txt (line 6)) (67.7.2)\n",
            "Requirement already satisfied: nltk in /usr/local/lib/python3.10/dist-packages (from whisperx==3.1.1->-r requirements.txt (line 6)) (3.8.1)\n",
            "Requirement already satisfied: pyannote.audio==3.1.1 in /usr/local/lib/python3.10/dist-packages (from whisperx==3.1.1->-r requirements.txt (line 6)) (3.1.1)\n",
            "Requirement already satisfied: asteroid-filterbanks>=0.4 in /usr/local/lib/python3.10/dist-packages (from pyannote.audio==3.1.1->whisperx==3.1.1->-r requirements.txt (line 6)) (0.4.0)\n",
            "Requirement already satisfied: lightning>=2.0.1 in /usr/local/lib/python3.10/dist-packages (from pyannote.audio==3.1.1->whisperx==3.1.1->-r requirements.txt (line 6)) (2.2.0)\n",
            "Requirement already satisfied: omegaconf<3.0,>=2.1 in /usr/local/lib/python3.10/dist-packages (from pyannote.audio==3.1.1->whisperx==3.1.1->-r requirements.txt (line 6)) (2.3.0)\n",
            "Requirement already satisfied: pyannote.core>=5.0.0 in /usr/local/lib/python3.10/dist-packages (from pyannote.audio==3.1.1->whisperx==3.1.1->-r requirements.txt (line 6)) (5.0.0)\n",
            "Requirement already satisfied: pyannote.database>=5.0.1 in /usr/local/lib/python3.10/dist-packages (from pyannote.audio==3.1.1->whisperx==3.1.1->-r requirements.txt (line 6)) (5.0.1)\n",
            "Requirement already satisfied: pyannote.metrics>=3.2 in /usr/local/lib/python3.10/dist-packages (from pyannote.audio==3.1.1->whisperx==3.1.1->-r requirements.txt (line 6)) (3.2.1)\n",
            "Requirement already satisfied: pyannote.pipeline>=3.0.1 in /usr/local/lib/python3.10/dist-packages (from pyannote.audio==3.1.1->whisperx==3.1.1->-r requirements.txt (line 6)) (3.0.1)\n",
            "Requirement already satisfied: pytorch-metric-learning>=2.1.0 in /usr/local/lib/python3.10/dist-packages (from pyannote.audio==3.1.1->whisperx==3.1.1->-r requirements.txt (line 6)) (2.4.1)\n",
            "Requirement already satisfied: rich>=12.0.0 in /usr/local/lib/python3.10/dist-packages (from pyannote.audio==3.1.1->whisperx==3.1.1->-r requirements.txt (line 6)) (13.7.0)\n",
            "Requirement already satisfied: semver>=3.0.0 in /usr/local/lib/python3.10/dist-packages (from pyannote.audio==3.1.1->whisperx==3.1.1->-r requirements.txt (line 6)) (3.0.2)\n",
            "Requirement already satisfied: soundfile>=0.12.1 in /usr/local/lib/python3.10/dist-packages (from pyannote.audio==3.1.1->whisperx==3.1.1->-r requirements.txt (line 6)) (0.12.1)\n",
            "Requirement already satisfied: speechbrain>=0.5.14 in /usr/local/lib/python3.10/dist-packages (from pyannote.audio==3.1.1->whisperx==3.1.1->-r requirements.txt (line 6)) (0.5.16)\n",
            "Requirement already satisfied: tensorboardX>=2.6 in /usr/local/lib/python3.10/dist-packages (from pyannote.audio==3.1.1->whisperx==3.1.1->-r requirements.txt (line 6)) (2.6.2.2)\n",
            "Requirement already satisfied: torch-audiomentations>=0.11.0 in /usr/local/lib/python3.10/dist-packages (from pyannote.audio==3.1.1->whisperx==3.1.1->-r requirements.txt (line 6)) (0.11.1)\n",
            "Requirement already satisfied: torchmetrics>=0.11.0 in /usr/local/lib/python3.10/dist-packages (from pyannote.audio==3.1.1->whisperx==3.1.1->-r requirements.txt (line 6)) (1.3.0.post0)\n",
            "Requirement already satisfied: scipy in /usr/local/lib/python3.10/dist-packages (from bitsandbytes->-r requirements.txt (line 7)) (1.11.4)\n",
            "Requirement already satisfied: Click!=8.0.0,>=7.1 in /usr/local/lib/python3.10/dist-packages (from wandb->-r requirements.txt (line 8)) (8.1.7)\n",
            "Requirement already satisfied: GitPython!=3.1.29,>=1.0.0 in /usr/local/lib/python3.10/dist-packages (from wandb->-r requirements.txt (line 8)) (3.1.41)\n",
            "Requirement already satisfied: sentry-sdk>=1.0.0 in /usr/local/lib/python3.10/dist-packages (from wandb->-r requirements.txt (line 8)) (1.40.3)\n",
            "Requirement already satisfied: docker-pycreds>=0.4.0 in /usr/local/lib/python3.10/dist-packages (from wandb->-r requirements.txt (line 8)) (0.4.0)\n",
            "Requirement already satisfied: setproctitle in /usr/local/lib/python3.10/dist-packages (from wandb->-r requirements.txt (line 8)) (1.3.3)\n",
            "Requirement already satisfied: appdirs>=1.4.3 in /usr/local/lib/python3.10/dist-packages (from wandb->-r requirements.txt (line 8)) (1.4.4)\n",
            "Requirement already satisfied: protobuf!=4.21.0,<5,>=3.19.0 in /usr/local/lib/python3.10/dist-packages (from wandb->-r requirements.txt (line 8)) (3.20.3)\n",
            "Requirement already satisfied: aiofiles<24.0,>=22.0 in /usr/local/lib/python3.10/dist-packages (from gradio->-r requirements.txt (line 11)) (23.2.1)\n",
            "Requirement already satisfied: altair<6.0,>=4.2.0 in /usr/local/lib/python3.10/dist-packages (from gradio->-r requirements.txt (line 11)) (4.2.2)\n",
            "Requirement already satisfied: fastapi in /usr/local/lib/python3.10/dist-packages (from gradio->-r requirements.txt (line 11)) (0.109.2)\n",
            "Requirement already satisfied: ffmpy in /usr/local/lib/python3.10/dist-packages (from gradio->-r requirements.txt (line 11)) (0.3.1)\n",
            "Requirement already satisfied: gradio-client==0.9.0 in /usr/local/lib/python3.10/dist-packages (from gradio->-r requirements.txt (line 11)) (0.9.0)\n",
            "Requirement already satisfied: httpx in /usr/local/lib/python3.10/dist-packages (from gradio->-r requirements.txt (line 11)) (0.26.0)\n",
            "Requirement already satisfied: importlib-resources<7.0,>=1.3 in /usr/local/lib/python3.10/dist-packages (from gradio->-r requirements.txt (line 11)) (6.1.1)\n",
            "Requirement already satisfied: markupsafe~=2.0 in /usr/local/lib/python3.10/dist-packages (from gradio->-r requirements.txt (line 11)) (2.1.5)\n",
            "Requirement already satisfied: matplotlib~=3.0 in /usr/local/lib/python3.10/dist-packages (from gradio->-r requirements.txt (line 11)) (3.7.1)\n",
            "Requirement already satisfied: orjson~=3.0 in /usr/local/lib/python3.10/dist-packages (from gradio->-r requirements.txt (line 11)) (3.9.13)\n",
            "Requirement already satisfied: pillow<11.0,>=8.0 in /usr/local/lib/python3.10/dist-packages (from gradio->-r requirements.txt (line 11)) (9.4.0)\n",
            "Requirement already satisfied: pydantic>=2.0 in /usr/local/lib/python3.10/dist-packages (from gradio->-r requirements.txt (line 11)) (2.6.1)\n",
            "Requirement already satisfied: python-multipart in /usr/local/lib/python3.10/dist-packages (from gradio->-r requirements.txt (line 11)) (0.0.8)\n",
            "Requirement already satisfied: ruff>=0.1.7 in /usr/local/lib/python3.10/dist-packages (from gradio->-r requirements.txt (line 11)) (0.2.1)\n",
            "Requirement already satisfied: semantic-version~=2.0 in /usr/local/lib/python3.10/dist-packages (from gradio->-r requirements.txt (line 11)) (2.10.0)\n",
            "Requirement already satisfied: tomlkit==0.12.0 in /usr/local/lib/python3.10/dist-packages (from gradio->-r requirements.txt (line 11)) (0.12.0)\n",
            "Requirement already satisfied: typer[all]<1.0,>=0.9 in /usr/local/lib/python3.10/dist-packages (from gradio->-r requirements.txt (line 11)) (0.9.0)\n",
            "Requirement already satisfied: uvicorn>=0.14.0 in /usr/local/lib/python3.10/dist-packages (from gradio->-r requirements.txt (line 11)) (0.27.0.post1)\n",
            "Requirement already satisfied: websockets<12.0,>=10.0 in /usr/local/lib/python3.10/dist-packages (from gradio-client==0.9.0->gradio->-r requirements.txt (line 11)) (11.0.3)\n",
            "Requirement already satisfied: entrypoints in /usr/local/lib/python3.10/dist-packages (from altair<6.0,>=4.2.0->gradio->-r requirements.txt (line 11)) (0.4)\n",
            "Requirement already satisfied: jsonschema>=3.0 in /usr/local/lib/python3.10/dist-packages (from altair<6.0,>=4.2.0->gradio->-r requirements.txt (line 11)) (4.19.2)\n",
            "Requirement already satisfied: toolz in /usr/local/lib/python3.10/dist-packages (from altair<6.0,>=4.2.0->gradio->-r requirements.txt (line 11)) (0.12.1)\n",
            "Requirement already satisfied: six>=1.4.0 in /usr/local/lib/python3.10/dist-packages (from docker-pycreds>=0.4.0->wandb->-r requirements.txt (line 8)) (1.16.0)\n",
            "Requirement already satisfied: gitdb<5,>=4.0.1 in /usr/local/lib/python3.10/dist-packages (from GitPython!=3.1.29,>=1.0.0->wandb->-r requirements.txt (line 8)) (4.0.11)\n",
            "Requirement already satisfied: contourpy>=1.0.1 in /usr/local/lib/python3.10/dist-packages (from matplotlib~=3.0->gradio->-r requirements.txt (line 11)) (1.2.0)\n",
            "Requirement already satisfied: cycler>=0.10 in /usr/local/lib/python3.10/dist-packages (from matplotlib~=3.0->gradio->-r requirements.txt (line 11)) (0.12.1)\n",
            "Requirement already satisfied: fonttools>=4.22.0 in /usr/local/lib/python3.10/dist-packages (from matplotlib~=3.0->gradio->-r requirements.txt (line 11)) (4.48.1)\n",
            "Requirement already satisfied: kiwisolver>=1.0.1 in /usr/local/lib/python3.10/dist-packages (from matplotlib~=3.0->gradio->-r requirements.txt (line 11)) (1.4.5)\n",
            "Requirement already satisfied: pyparsing>=2.3.1 in /usr/local/lib/python3.10/dist-packages (from matplotlib~=3.0->gradio->-r requirements.txt (line 11)) (3.1.1)\n",
            "Requirement already satisfied: python-dateutil>=2.7 in /usr/local/lib/python3.10/dist-packages (from matplotlib~=3.0->gradio->-r requirements.txt (line 11)) (2.8.2)\n",
            "Requirement already satisfied: pytz>=2020.1 in /usr/local/lib/python3.10/dist-packages (from pandas->whisperx==3.1.1->-r requirements.txt (line 6)) (2023.4)\n",
            "Requirement already satisfied: annotated-types>=0.4.0 in /usr/local/lib/python3.10/dist-packages (from pydantic>=2.0->gradio->-r requirements.txt (line 11)) (0.6.0)\n",
            "Requirement already satisfied: pydantic-core==2.16.2 in /usr/local/lib/python3.10/dist-packages (from pydantic>=2.0->gradio->-r requirements.txt (line 11)) (2.16.2)\n",
            "Requirement already satisfied: charset-normalizer<4,>=2 in /usr/local/lib/python3.10/dist-packages (from requests->transformers==4.37->-r requirements.txt (line 4)) (3.3.2)\n",
            "Requirement already satisfied: idna<4,>=2.5 in /usr/local/lib/python3.10/dist-packages (from requests->transformers==4.37->-r requirements.txt (line 4)) (3.6)\n",
            "Requirement already satisfied: urllib3<3,>=1.21.1 in /usr/local/lib/python3.10/dist-packages (from requests->transformers==4.37->-r requirements.txt (line 4)) (2.0.7)\n",
            "Requirement already satisfied: certifi>=2017.4.17 in /usr/local/lib/python3.10/dist-packages (from requests->transformers==4.37->-r requirements.txt (line 4)) (2024.2.2)\n",
            "Requirement already satisfied: colorama<0.5.0,>=0.4.3 in /usr/local/lib/python3.10/dist-packages (from typer[all]<1.0,>=0.9->gradio->-r requirements.txt (line 11)) (0.4.6)\n",
            "Requirement already satisfied: shellingham<2.0.0,>=1.3.0 in /usr/local/lib/python3.10/dist-packages (from typer[all]<1.0,>=0.9->gradio->-r requirements.txt (line 11)) (1.5.4)\n",
            "Requirement already satisfied: h11>=0.8 in /usr/local/lib/python3.10/dist-packages (from uvicorn>=0.14.0->gradio->-r requirements.txt (line 11)) (0.14.0)\n",
            "Requirement already satisfied: starlette<0.37.0,>=0.36.3 in /usr/local/lib/python3.10/dist-packages (from fastapi->gradio->-r requirements.txt (line 11)) (0.36.3)\n",
            "Requirement already satisfied: av==10.* in /usr/local/lib/python3.10/dist-packages (from faster-whisper@ git+https://github.com/SYSTRAN/faster-whisper.git@0.10.0->whisperx==3.1.1->-r requirements.txt (line 6)) (10.0.0)\n",
            "Requirement already satisfied: ctranslate2<4,>=3.22 in /usr/local/lib/python3.10/dist-packages (from faster-whisper@ git+https://github.com/SYSTRAN/faster-whisper.git@0.10.0->whisperx==3.1.1->-r requirements.txt (line 6)) (3.24.0)\n",
            "Requirement already satisfied: onnxruntime<2,>=1.14 in /usr/local/lib/python3.10/dist-packages (from faster-whisper@ git+https://github.com/SYSTRAN/faster-whisper.git@0.10.0->whisperx==3.1.1->-r requirements.txt (line 6)) (1.17.0)\n",
            "Requirement already satisfied: anyio in /usr/local/lib/python3.10/dist-packages (from httpx->gradio->-r requirements.txt (line 11)) (3.7.1)\n",
            "Requirement already satisfied: httpcore==1.* in /usr/local/lib/python3.10/dist-packages (from httpx->gradio->-r requirements.txt (line 11)) (1.0.2)\n",
            "Requirement already satisfied: sniffio in /usr/local/lib/python3.10/dist-packages (from httpx->gradio->-r requirements.txt (line 11)) (1.3.0)\n",
            "Requirement already satisfied: joblib in /usr/local/lib/python3.10/dist-packages (from nltk->whisperx==3.1.1->-r requirements.txt (line 6)) (1.3.2)\n",
            "Requirement already satisfied: mpmath>=0.19 in /usr/local/lib/python3.10/dist-packages (from sympy->torch->-r requirements.txt (line 1)) (1.3.0)\n",
            "Requirement already satisfied: smmap<6,>=3.0.1 in /usr/local/lib/python3.10/dist-packages (from gitdb<5,>=4.0.1->GitPython!=3.1.29,>=1.0.0->wandb->-r requirements.txt (line 8)) (5.0.1)\n",
            "Requirement already satisfied: attrs>=22.2.0 in /usr/local/lib/python3.10/dist-packages (from jsonschema>=3.0->altair<6.0,>=4.2.0->gradio->-r requirements.txt (line 11)) (23.2.0)\n",
            "Requirement already satisfied: jsonschema-specifications>=2023.03.6 in /usr/local/lib/python3.10/dist-packages (from jsonschema>=3.0->altair<6.0,>=4.2.0->gradio->-r requirements.txt (line 11)) (2023.12.1)\n",
            "Requirement already satisfied: referencing>=0.28.4 in /usr/local/lib/python3.10/dist-packages (from jsonschema>=3.0->altair<6.0,>=4.2.0->gradio->-r requirements.txt (line 11)) (0.33.0)\n",
            "Requirement already satisfied: rpds-py>=0.7.1 in /usr/local/lib/python3.10/dist-packages (from jsonschema>=3.0->altair<6.0,>=4.2.0->gradio->-r requirements.txt (line 11)) (0.17.1)\n",
            "Requirement already satisfied: lightning-utilities<2.0,>=0.8.0 in /usr/local/lib/python3.10/dist-packages (from lightning>=2.0.1->pyannote.audio==3.1.1->whisperx==3.1.1->-r requirements.txt (line 6)) (0.10.1)\n",
            "Requirement already satisfied: pytorch-lightning in /usr/local/lib/python3.10/dist-packages (from lightning>=2.0.1->pyannote.audio==3.1.1->whisperx==3.1.1->-r requirements.txt (line 6)) (2.2.0)\n",
            "Requirement already satisfied: antlr4-python3-runtime==4.9.* in /usr/local/lib/python3.10/dist-packages (from omegaconf<3.0,>=2.1->pyannote.audio==3.1.1->whisperx==3.1.1->-r requirements.txt (line 6)) (4.9.3)\n",
            "Requirement already satisfied: coloredlogs in /usr/local/lib/python3.10/dist-packages (from onnxruntime<2,>=1.14->faster-whisper@ git+https://github.com/SYSTRAN/faster-whisper.git@0.10.0->whisperx==3.1.1->-r requirements.txt (line 6)) (15.0.1)\n",
            "Requirement already satisfied: flatbuffers in /usr/local/lib/python3.10/dist-packages (from onnxruntime<2,>=1.14->faster-whisper@ git+https://github.com/SYSTRAN/faster-whisper.git@0.10.0->whisperx==3.1.1->-r requirements.txt (line 6)) (23.5.26)\n",
            "Requirement already satisfied: sortedcontainers>=2.0.4 in /usr/local/lib/python3.10/dist-packages (from pyannote.core>=5.0.0->pyannote.audio==3.1.1->whisperx==3.1.1->-r requirements.txt (line 6)) (2.4.0)\n",
            "Requirement already satisfied: scikit-learn>=0.17.1 in /usr/local/lib/python3.10/dist-packages (from pyannote.metrics>=3.2->pyannote.audio==3.1.1->whisperx==3.1.1->-r requirements.txt (line 6)) (1.2.2)\n",
            "Requirement already satisfied: docopt>=0.6.2 in /usr/local/lib/python3.10/dist-packages (from pyannote.metrics>=3.2->pyannote.audio==3.1.1->whisperx==3.1.1->-r requirements.txt (line 6)) (0.6.2)\n",
            "Requirement already satisfied: tabulate>=0.7.7 in /usr/local/lib/python3.10/dist-packages (from pyannote.metrics>=3.2->pyannote.audio==3.1.1->whisperx==3.1.1->-r requirements.txt (line 6)) (0.9.0)\n",
            "Requirement already satisfied: optuna>=3.1 in /usr/local/lib/python3.10/dist-packages (from pyannote.pipeline>=3.0.1->pyannote.audio==3.1.1->whisperx==3.1.1->-r requirements.txt (line 6)) (3.5.0)\n",
            "Requirement already satisfied: markdown-it-py>=2.2.0 in /usr/local/lib/python3.10/dist-packages (from rich>=12.0.0->pyannote.audio==3.1.1->whisperx==3.1.1->-r requirements.txt (line 6)) (3.0.0)\n",
            "Requirement already satisfied: pygments<3.0.0,>=2.13.0 in /usr/local/lib/python3.10/dist-packages (from rich>=12.0.0->pyannote.audio==3.1.1->whisperx==3.1.1->-r requirements.txt (line 6)) (2.16.1)\n",
            "Requirement already satisfied: cffi>=1.0 in /usr/local/lib/python3.10/dist-packages (from soundfile>=0.12.1->pyannote.audio==3.1.1->whisperx==3.1.1->-r requirements.txt (line 6)) (1.16.0)\n",
            "Requirement already satisfied: hyperpyyaml in /usr/local/lib/python3.10/dist-packages (from speechbrain>=0.5.14->pyannote.audio==3.1.1->whisperx==3.1.1->-r requirements.txt (line 6)) (1.2.2)\n",
            "Requirement already satisfied: sentencepiece in /usr/local/lib/python3.10/dist-packages (from speechbrain>=0.5.14->pyannote.audio==3.1.1->whisperx==3.1.1->-r requirements.txt (line 6)) (0.1.99)\n",
            "Requirement already satisfied: exceptiongroup in /usr/local/lib/python3.10/dist-packages (from anyio->httpx->gradio->-r requirements.txt (line 11)) (1.2.0)\n",
            "Requirement already satisfied: julius<0.3,>=0.2.3 in /usr/local/lib/python3.10/dist-packages (from torch-audiomentations>=0.11.0->pyannote.audio==3.1.1->whisperx==3.1.1->-r requirements.txt (line 6)) (0.2.7)\n",
            "Requirement already satisfied: librosa>=0.6.0 in /usr/local/lib/python3.10/dist-packages (from torch-audiomentations>=0.11.0->pyannote.audio==3.1.1->whisperx==3.1.1->-r requirements.txt (line 6)) (0.10.1)\n",
            "Requirement already satisfied: torch-pitch-shift>=1.2.2 in /usr/local/lib/python3.10/dist-packages (from torch-audiomentations>=0.11.0->pyannote.audio==3.1.1->whisperx==3.1.1->-r requirements.txt (line 6)) (1.2.4)\n",
            "Requirement already satisfied: pycparser in /usr/local/lib/python3.10/dist-packages (from cffi>=1.0->soundfile>=0.12.1->pyannote.audio==3.1.1->whisperx==3.1.1->-r requirements.txt (line 6)) (2.21)\n",
            "Requirement already satisfied: aiohttp!=4.0.0a0,!=4.0.0a1 in /usr/local/lib/python3.10/dist-packages (from fsspec->torch->-r requirements.txt (line 1)) (3.9.3)\n",
            "Requirement already satisfied: audioread>=2.1.9 in /usr/local/lib/python3.10/dist-packages (from librosa>=0.6.0->torch-audiomentations>=0.11.0->pyannote.audio==3.1.1->whisperx==3.1.1->-r requirements.txt (line 6)) (3.0.1)\n",
            "Requirement already satisfied: decorator>=4.3.0 in /usr/local/lib/python3.10/dist-packages (from librosa>=0.6.0->torch-audiomentations>=0.11.0->pyannote.audio==3.1.1->whisperx==3.1.1->-r requirements.txt (line 6)) (4.4.2)\n",
            "Requirement already satisfied: numba>=0.51.0 in /usr/local/lib/python3.10/dist-packages (from librosa>=0.6.0->torch-audiomentations>=0.11.0->pyannote.audio==3.1.1->whisperx==3.1.1->-r requirements.txt (line 6)) (0.58.1)\n",
            "Requirement already satisfied: pooch>=1.0 in /usr/local/lib/python3.10/dist-packages (from librosa>=0.6.0->torch-audiomentations>=0.11.0->pyannote.audio==3.1.1->whisperx==3.1.1->-r requirements.txt (line 6)) (1.8.0)\n",
            "Requirement already satisfied: soxr>=0.3.2 in /usr/local/lib/python3.10/dist-packages (from librosa>=0.6.0->torch-audiomentations>=0.11.0->pyannote.audio==3.1.1->whisperx==3.1.1->-r requirements.txt (line 6)) (0.3.7)\n",
            "Requirement already satisfied: lazy-loader>=0.1 in /usr/local/lib/python3.10/dist-packages (from librosa>=0.6.0->torch-audiomentations>=0.11.0->pyannote.audio==3.1.1->whisperx==3.1.1->-r requirements.txt (line 6)) (0.3)\n",
            "Requirement already satisfied: msgpack>=1.0 in /usr/local/lib/python3.10/dist-packages (from librosa>=0.6.0->torch-audiomentations>=0.11.0->pyannote.audio==3.1.1->whisperx==3.1.1->-r requirements.txt (line 6)) (1.0.7)\n",
            "Requirement already satisfied: mdurl~=0.1 in /usr/local/lib/python3.10/dist-packages (from markdown-it-py>=2.2.0->rich>=12.0.0->pyannote.audio==3.1.1->whisperx==3.1.1->-r requirements.txt (line 6)) (0.1.2)\n",
            "Requirement already satisfied: alembic>=1.5.0 in /usr/local/lib/python3.10/dist-packages (from optuna>=3.1->pyannote.pipeline>=3.0.1->pyannote.audio==3.1.1->whisperx==3.1.1->-r requirements.txt (line 6)) (1.13.1)\n",
            "Requirement already satisfied: colorlog in /usr/local/lib/python3.10/dist-packages (from optuna>=3.1->pyannote.pipeline>=3.0.1->pyannote.audio==3.1.1->whisperx==3.1.1->-r requirements.txt (line 6)) (6.8.2)\n",
            "Requirement already satisfied: sqlalchemy>=1.3.0 in /usr/local/lib/python3.10/dist-packages (from optuna>=3.1->pyannote.pipeline>=3.0.1->pyannote.audio==3.1.1->whisperx==3.1.1->-r requirements.txt (line 6)) (2.0.25)\n",
            "Requirement already satisfied: threadpoolctl>=2.0.0 in /usr/local/lib/python3.10/dist-packages (from scikit-learn>=0.17.1->pyannote.metrics>=3.2->pyannote.audio==3.1.1->whisperx==3.1.1->-r requirements.txt (line 6)) (3.2.0)\n",
            "Requirement already satisfied: primePy>=1.3 in /usr/local/lib/python3.10/dist-packages (from torch-pitch-shift>=1.2.2->torch-audiomentations>=0.11.0->pyannote.audio==3.1.1->whisperx==3.1.1->-r requirements.txt (line 6)) (1.3)\n",
            "Requirement already satisfied: humanfriendly>=9.1 in /usr/local/lib/python3.10/dist-packages (from coloredlogs->onnxruntime<2,>=1.14->faster-whisper@ git+https://github.com/SYSTRAN/faster-whisper.git@0.10.0->whisperx==3.1.1->-r requirements.txt (line 6)) (10.0)\n",
            "Requirement already satisfied: ruamel.yaml>=0.17.28 in /usr/local/lib/python3.10/dist-packages (from hyperpyyaml->speechbrain>=0.5.14->pyannote.audio==3.1.1->whisperx==3.1.1->-r requirements.txt (line 6)) (0.18.6)\n",
            "Requirement already satisfied: aiosignal>=1.1.2 in /usr/local/lib/python3.10/dist-packages (from aiohttp!=4.0.0a0,!=4.0.0a1->fsspec->torch->-r requirements.txt (line 1)) (1.3.1)\n",
            "Requirement already satisfied: frozenlist>=1.1.1 in /usr/local/lib/python3.10/dist-packages (from aiohttp!=4.0.0a0,!=4.0.0a1->fsspec->torch->-r requirements.txt (line 1)) (1.4.1)\n",
            "Requirement already satisfied: multidict<7.0,>=4.5 in /usr/local/lib/python3.10/dist-packages (from aiohttp!=4.0.0a0,!=4.0.0a1->fsspec->torch->-r requirements.txt (line 1)) (6.0.5)\n",
            "Requirement already satisfied: yarl<2.0,>=1.0 in /usr/local/lib/python3.10/dist-packages (from aiohttp!=4.0.0a0,!=4.0.0a1->fsspec->torch->-r requirements.txt (line 1)) (1.9.4)\n",
            "Requirement already satisfied: async-timeout<5.0,>=4.0 in /usr/local/lib/python3.10/dist-packages (from aiohttp!=4.0.0a0,!=4.0.0a1->fsspec->torch->-r requirements.txt (line 1)) (4.0.3)\n",
            "Requirement already satisfied: Mako in /usr/local/lib/python3.10/dist-packages (from alembic>=1.5.0->optuna>=3.1->pyannote.pipeline>=3.0.1->pyannote.audio==3.1.1->whisperx==3.1.1->-r requirements.txt (line 6)) (1.3.2)\n",
            "Requirement already satisfied: llvmlite<0.42,>=0.41.0dev0 in /usr/local/lib/python3.10/dist-packages (from numba>=0.51.0->librosa>=0.6.0->torch-audiomentations>=0.11.0->pyannote.audio==3.1.1->whisperx==3.1.1->-r requirements.txt (line 6)) (0.41.1)\n",
            "Requirement already satisfied: platformdirs>=2.5.0 in /usr/local/lib/python3.10/dist-packages (from pooch>=1.0->librosa>=0.6.0->torch-audiomentations>=0.11.0->pyannote.audio==3.1.1->whisperx==3.1.1->-r requirements.txt (line 6)) (4.2.0)\n",
            "Requirement already satisfied: ruamel.yaml.clib>=0.2.7 in /usr/local/lib/python3.10/dist-packages (from ruamel.yaml>=0.17.28->hyperpyyaml->speechbrain>=0.5.14->pyannote.audio==3.1.1->whisperx==3.1.1->-r requirements.txt (line 6)) (0.2.8)\n",
            "Requirement already satisfied: greenlet!=0.4.17 in /usr/local/lib/python3.10/dist-packages (from sqlalchemy>=1.3.0->optuna>=3.1->pyannote.pipeline>=3.0.1->pyannote.audio==3.1.1->whisperx==3.1.1->-r requirements.txt (line 6)) (3.0.3)\n"
          ]
        }
      ]
    },
    {
      "cell_type": "code",
      "source": [
        "!pip install glob2"
      ],
      "metadata": {
        "colab": {
          "base_uri": "https://localhost:8080/"
        },
        "id": "PbKquMfVvRzB",
        "outputId": "9c29d1fa-fbbb-49b1-d3a6-53f054c32bf5"
      },
      "execution_count": 6,
      "outputs": [
        {
          "output_type": "stream",
          "name": "stdout",
          "text": [
            "Requirement already satisfied: glob2 in /usr/local/lib/python3.10/dist-packages (0.7)\n"
          ]
        }
      ]
    },
    {
      "cell_type": "code",
      "source": [
        "import glob2\n",
        "import torch\n",
        "from network import CLIPPhi2Model, train_model, frange_cycle_linear\n",
        "from dataset import collate_fn, llavadataset\n",
        "from torch.utils.data import random_split, DataLoader\n",
        "import wandb\n",
        "import torch.nn as nn\n",
        "from transformers import AutoTokenizer\n",
        "import pickle\n",
        "#import bitsandbytes as bnb\n",
        "import gc\n",
        "\n",
        "\n",
        "def main():\n",
        "    with open(\"/content/drive/MyDrive/capstone/coco_captions.pickle\", \"rb\") as fp:   # Unpickling\n",
        "        coco_unpickle = pickle.load(fp)\n",
        "\n",
        "    clip_model_name = \"wkcn/TinyCLIP-ViT-61M-32-Text-29M-LAION400M\"\n",
        "    phi_model_name  = \"microsoft/phi-2\"\n",
        "    train_batch_size = 2\n",
        "    val_batch_size   = 2\n",
        "    device     = 'cuda'\n",
        "    tokenizer  = AutoTokenizer.from_pretrained(phi_model_name, trust_remote_code=True)\n",
        "\n",
        "    # model\n",
        "    MModalGPT        = CLIPPhi2Model().to(device)\n",
        "    max_steps        = 10000\n",
        "    model_save_step  = 100\n",
        "    model_val_step   = 1000\n",
        "    log_step         = 100\n",
        "    max_token_filter = 35\n",
        "\n",
        "    # data loaders\n",
        "    train_dataloader = DataLoader(llavadataset(coco_unpickle, phi_model_name,clip_model_name,'train',tokenizer),\n",
        "                      collate_fn=collate_fn, batch_size=train_batch_size, num_workers = 10, shuffle=True, pin_memory=True)\n",
        "\n",
        "    val_dataloader   = DataLoader(llavadataset(coco_unpickle, phi_model_name,clip_model_name,'val',tokenizer),\n",
        "                      collate_fn=collate_fn, batch_size=val_batch_size, num_workers = 10, shuffle=True, pin_memory=True)\n",
        "\n",
        "    optimizer = torch.optim.Adam(filter(lambda p: p.requires_grad, MModalGPT.parameters()), lr=1e-4)\n",
        "    train_model(MModalGPT, train_dataloader, val_dataloader, optimizer, device, max_steps,model_save_step,model_val_step,log_step,max_token_filter,tokenizer)\n",
        "\n",
        "import wandb\n",
        "\n",
        "wandb.login(key=\"496133cd12c3c9c1f19d8a2cfeb8986ddc1d93ec\")"
      ],
      "metadata": {
        "colab": {
          "base_uri": "https://localhost:8080/"
        },
        "id": "OxS3LC12vR3F",
        "outputId": "4431b3b8-52ff-4d7c-a14a-0b2a67bab5a7"
      },
      "execution_count": 7,
      "outputs": [
        {
          "output_type": "stream",
          "name": "stderr",
          "text": [
            "\u001b[34m\u001b[1mwandb\u001b[0m: Currently logged in as: \u001b[33mgsunandhini\u001b[0m. Use \u001b[1m`wandb login --relogin`\u001b[0m to force relogin\n",
            "\u001b[34m\u001b[1mwandb\u001b[0m: \u001b[33mWARNING\u001b[0m If you're specifying your api key in code, ensure this code is not shared publicly.\n",
            "\u001b[34m\u001b[1mwandb\u001b[0m: \u001b[33mWARNING\u001b[0m Consider setting the WANDB_API_KEY environment variable, or running `wandb login` from the command line.\n",
            "\u001b[34m\u001b[1mwandb\u001b[0m: Appending key for api.wandb.ai to your netrc file: /root/.netrc\n"
          ]
        },
        {
          "output_type": "execute_result",
          "data": {
            "text/plain": [
              "True"
            ]
          },
          "metadata": {},
          "execution_count": 7
        }
      ]
    },
    {
      "cell_type": "code",
      "source": [
        "if __name__ == \"__main__\":\n",
        "    wandb.init(project=\"tsai_multimodal_gpt_project\", name=\"step1_projector_pretrain\") #,log_model='all')\n",
        "    torch.cuda.amp.autocast(enabled=True)\n",
        "    torch.cuda.empty_cache()\n",
        "    gc.collect()\n",
        "    #torch.set_float32_matmul_precision('medium')\n",
        "    main()"
      ],
      "metadata": {
        "colab": {
          "base_uri": "https://localhost:8080/",
          "height": 1000,
          "referenced_widgets": [
            "1bafcd86b67b4b618e3a638723b7ec31",
            "b6a8535e90d14565a59a8b37f6324c13",
            "c5ac5650a0744a9e99d1c1d36725c6a2",
            "1523c9a96334464bbd9c320d8a20ed9f",
            "b8b47460c3af459cbc4fce47bf87bdc9",
            "151409b6416b4d658d09c8eb238c0306",
            "c16122c1231c4b159a967012522f5be7",
            "4df33152cb17463fba6354a4dc01e106",
            "66c24588023347369ef2deebabd73546",
            "730f4790521e45228303cf603251d2a2",
            "5ef4d90a7f784c538f1d2167055385b1"
          ]
        },
        "id": "uk_9IjIUvR6g",
        "outputId": "82f3e183-0d04-40e0-9b81-1b519c34724c"
      },
      "execution_count": 8,
      "outputs": [
        {
          "output_type": "display_data",
          "data": {
            "text/plain": [
              "<IPython.core.display.HTML object>"
            ],
            "text/html": [
              "Tracking run with wandb version 0.16.3"
            ]
          },
          "metadata": {}
        },
        {
          "output_type": "display_data",
          "data": {
            "text/plain": [
              "<IPython.core.display.HTML object>"
            ],
            "text/html": [
              "Run data is saved locally in <code>/content/drive/MyDrive/capstone/TSAI_ERAV1/Capstone/Stage_1/wandb/run-20240210_054729-7mxhn4wm</code>"
            ]
          },
          "metadata": {}
        },
        {
          "output_type": "display_data",
          "data": {
            "text/plain": [
              "<IPython.core.display.HTML object>"
            ],
            "text/html": [
              "Syncing run <strong><a href='https://wandb.ai/gsunandhini/tsai_multimodal_gpt_project/runs/7mxhn4wm' target=\"_blank\">step1_projector_pretrain</a></strong> to <a href='https://wandb.ai/gsunandhini/tsai_multimodal_gpt_project' target=\"_blank\">Weights & Biases</a> (<a href='https://wandb.me/run' target=\"_blank\">docs</a>)<br/>"
            ]
          },
          "metadata": {}
        },
        {
          "output_type": "display_data",
          "data": {
            "text/plain": [
              "<IPython.core.display.HTML object>"
            ],
            "text/html": [
              " View project at <a href='https://wandb.ai/gsunandhini/tsai_multimodal_gpt_project' target=\"_blank\">https://wandb.ai/gsunandhini/tsai_multimodal_gpt_project</a>"
            ]
          },
          "metadata": {}
        },
        {
          "output_type": "display_data",
          "data": {
            "text/plain": [
              "<IPython.core.display.HTML object>"
            ],
            "text/html": [
              " View run at <a href='https://wandb.ai/gsunandhini/tsai_multimodal_gpt_project/runs/7mxhn4wm' target=\"_blank\">https://wandb.ai/gsunandhini/tsai_multimodal_gpt_project/runs/7mxhn4wm</a>"
            ]
          },
          "metadata": {}
        },
        {
          "output_type": "stream",
          "name": "stderr",
          "text": [
            "/usr/local/lib/python3.10/dist-packages/huggingface_hub/utils/_token.py:88: UserWarning: \n",
            "The secret `HF_TOKEN` does not exist in your Colab secrets.\n",
            "To authenticate with the Hugging Face Hub, create a token in your settings tab (https://huggingface.co/settings/tokens), set it as secret in your Google Colab and restart your session.\n",
            "You will be able to reuse this secret in all of your notebooks.\n",
            "Please note that authentication is recommended but still optional to access public models or datasets.\n",
            "  warnings.warn(\n",
            "Special tokens have been added in the vocabulary, make sure the associated word embeddings are fine-tuned or trained.\n"
          ]
        },
        {
          "output_type": "display_data",
          "data": {
            "text/plain": [
              "Loading checkpoint shards:   0%|          | 0/2 [00:00<?, ?it/s]"
            ],
            "application/vnd.jupyter.widget-view+json": {
              "version_major": 2,
              "version_minor": 0,
              "model_id": "1bafcd86b67b4b618e3a638723b7ec31"
            }
          },
          "metadata": {}
        },
        {
          "output_type": "stream",
          "name": "stderr",
          "text": [
            "/usr/local/lib/python3.10/dist-packages/torch/_utils.py:831: UserWarning: TypedStorage is deprecated. It will be removed in the future and UntypedStorage will be the only storage class. This should only matter to you if you are using storages directly.  To access UntypedStorage directly, use tensor.untyped_storage() instead of tensor.storage()\n",
            "  return self.fget.__get__(instance, owner)()\n"
          ]
        },
        {
          "output_type": "stream",
          "name": "stdout",
          "text": [
            "Train size 532577 and validation size 59176\n",
            "Train size 532577 and validation size 59176\n",
            "Training started.\n",
            "Step 0/10000: Avg Running Loss = 7.805176734924316\n",
            "Saving Checkpoint for step :  100\n",
            "Step 100/10000: Avg Running Loss = 6.727888708114624\n",
            "Saving Checkpoint for step :  200\n",
            "Step 200/10000: Avg Running Loss = 5.945052621364593\n",
            "Saving Checkpoint for step :  300\n",
            "Step 300/10000: Avg Running Loss = 5.669799976348877\n",
            "Saving Checkpoint for step :  400\n",
            "Step 400/10000: Avg Running Loss = 5.50166642665863\n",
            "Saving Checkpoint for step :  500\n",
            "Step 500/10000: Avg Running Loss = 5.4119014954566955\n",
            "Saving Checkpoint for step :  600\n",
            "Step 600/10000: Avg Running Loss = 5.457903873920441\n",
            "Saving Checkpoint for step :  700\n",
            "Step 700/10000: Avg Running Loss = 5.437376885414124\n",
            "Saving Checkpoint for step :  800\n",
            "Step 800/10000: Avg Running Loss = 5.254926381111145\n",
            "Saving Checkpoint for step :  900\n",
            "Step 900/10000: Avg Running Loss = 5.15674718618393\n",
            "Saving Checkpoint for step :  1000\n",
            "0 - Target captions:\n",
            " People getting drinks lined up behind long tables.<|endoftext|><|endoftext|><|endoftext|><|endoftext|><|endoftext|>  \n",
            "0 - predicted_captions:\n",
            " \n",
            "The most common type of cancer that affects the brain is glioblastoma multiform<|endoftext|> \n",
            "1 - Target captions:\n",
            " A man with a dark shirt on holds something up in his hand.  \n",
            "1 - predicted_captions:\n",
            " \n",
            "The most common cause of a swollen abdomen is a hernia. A hernia is a<|endoftext|> \n",
            "Step 1000/10000: Avg Running Loss = 5.279001188278198\n",
            "Saving Checkpoint for step :  1100\n",
            "Step 1100/10000: Avg Running Loss = 5.132169649600983\n",
            "Saving Checkpoint for step :  1200\n",
            "Step 1200/10000: Avg Running Loss = 5.013064856529236\n",
            "Batch skipped as captions too long.\n",
            "Saving Checkpoint for step :  1300\n",
            "Step 1300/10000: Avg Running Loss = 5.169702372550964\n",
            "Saving Checkpoint for step :  1400\n",
            "Step 1400/10000: Avg Running Loss = 5.0597708344459535\n",
            "Saving Checkpoint for step :  1500\n",
            "Step 1500/10000: Avg Running Loss = 5.123886153697968\n",
            "Batch skipped as captions too long.\n",
            "Saving Checkpoint for step :  1600\n",
            "Step 1600/10000: Avg Running Loss = 5.1520973777771\n",
            "Saving Checkpoint for step :  1700\n",
            "Step 1700/10000: Avg Running Loss = 4.989420523643494\n",
            "Batch skipped as captions too long.\n",
            "Saving Checkpoint for step :  1800\n",
            "Step 1800/10000: Avg Running Loss = 4.928340411186218\n",
            "Batch skipped as captions too long.\n",
            "Saving Checkpoint for step :  1900\n",
            "Step 1900/10000: Avg Running Loss = 5.070023217201233\n",
            "Saving Checkpoint for step :  2000\n",
            "0 - Target captions:\n",
            " Two flowers that are sitting in a vase near a window.<|endoftext|><|endoftext|><|endoftext|><|endoftext|>  \n",
            "0 - predicted_captions:\n",
            " A woman is sitting on a couch in a room with a. a. a. a.<|endoftext|> \n",
            "1 - Target captions:\n",
            " A baseball player is ready to bat, and the umpire is ready to catch.  \n",
            "1 - predicted_captions:\n",
            " A baseball player is playing a game of baseball. the ball is in the field. the ball<|endoftext|> \n",
            "Step 2000/10000: Avg Running Loss = 4.963018527030945\n",
            "Saving Checkpoint for step :  2100\n",
            "Step 2100/10000: Avg Running Loss = 4.847844352722168\n",
            "Batch skipped as captions too long.\n",
            "Saving Checkpoint for step :  2200\n",
            "Step 2200/10000: Avg Running Loss = 4.963312919139862\n",
            "Saving Checkpoint for step :  2300\n",
            "Step 2300/10000: Avg Running Loss = 4.88254025220871\n",
            "Saving Checkpoint for step :  2400\n",
            "Step 2400/10000: Avg Running Loss = 4.687255430221557\n",
            "Batch skipped as captions too long.\n",
            "Batch skipped as captions too long.\n",
            "Saving Checkpoint for step :  2500\n",
            "Step 2500/10000: Avg Running Loss = 4.903099191188812\n",
            "Saving Checkpoint for step :  2600\n",
            "Step 2600/10000: Avg Running Loss = 4.722696261405945\n",
            "Saving Checkpoint for step :  2700\n",
            "Step 2700/10000: Avg Running Loss = 4.845312254428864\n",
            "Saving Checkpoint for step :  2800\n",
            "Step 2800/10000: Avg Running Loss = 4.819027788639069\n",
            "Saving Checkpoint for step :  2900\n",
            "Step 2900/10000: Avg Running Loss = 4.666081614494324\n",
            "Saving Checkpoint for step :  3000\n",
            "0 - Target captions:\n",
            " A catcher, umpire and baseball player at bat prepare for a pitch.  \n",
            "0 - predicted_captions:\n",
            " A man is holding a baseball bat and a baseball. a baseball. a baseball. a baseball<|endoftext|> \n",
            "1 - Target captions:\n",
            " The ding toed man talks on his cell phone.<|endoftext|><|endoftext|><|endoftext|><|endoftext|>  \n",
            "1 - predicted_captions:\n",
            " A man is walking down a street with a a a a a a a a a a a<|endoftext|> \n",
            "Step 3000/10000: Avg Running Loss = 4.814292840957641\n",
            "Saving Checkpoint for step :  3100\n",
            "Step 3100/10000: Avg Running Loss = 4.840505292415619\n",
            "Batch skipped as captions too long.\n",
            "Saving Checkpoint for step :  3200\n",
            "Step 3200/10000: Avg Running Loss = 4.9344821286201475\n",
            "Saving Checkpoint for step :  3300\n",
            "Step 3300/10000: Avg Running Loss = 4.898875558376313\n",
            "Saving Checkpoint for step :  3400\n",
            "Step 3400/10000: Avg Running Loss = 4.699047510623932\n",
            "Saving Checkpoint for step :  3500\n",
            "Step 3500/10000: Avg Running Loss = 4.72898505449295\n",
            "Saving Checkpoint for step :  3600\n",
            "Step 3600/10000: Avg Running Loss = 4.6832449746131894\n",
            "Saving Checkpoint for step :  3700\n",
            "Step 3700/10000: Avg Running Loss = 4.713470041751862\n",
            "Saving Checkpoint for step :  3800\n",
            "Step 3800/10000: Avg Running Loss = 4.712908058166504\n",
            "Saving Checkpoint for step :  3900\n",
            "Step 3900/10000: Avg Running Loss = 4.648183007240295\n",
            "Saving Checkpoint for step :  4000\n",
            "0 - Target captions:\n",
            " A canned soft drink sits behind a plastic bowl of vegetables.  \n",
            "0 - predicted_captions:\n",
            " A plate of food with a variety of vegetables on it... a. a. a<|endoftext|> \n",
            "1 - Target captions:\n",
            " Two women are wine tasting at a store.<|endoftext|><|endoftext|><|endoftext|>  \n",
            "1 - predicted_captions:\n",
            " A woman is holding a camera and a phone in a. a. a. a. a<|endoftext|> \n",
            "Step 4000/10000: Avg Running Loss = 4.603116436004639\n",
            "Saving Checkpoint for step :  4100\n",
            "Step 4100/10000: Avg Running Loss = 4.678421180248261\n",
            "Saving Checkpoint for step :  4200\n",
            "Step 4200/10000: Avg Running Loss = 4.649705500602722\n",
            "Saving Checkpoint for step :  4300\n",
            "Step 4300/10000: Avg Running Loss = 4.671155779361725\n",
            "Saving Checkpoint for step :  4400\n",
            "Step 4400/10000: Avg Running Loss = 4.679381966590881\n",
            "Saving Checkpoint for step :  4500\n",
            "Step 4500/10000: Avg Running Loss = 4.658520946502685\n",
            "Saving Checkpoint for step :  4600\n",
            "Step 4600/10000: Avg Running Loss = 4.692742998600006\n",
            "Saving Checkpoint for step :  4700\n",
            "Step 4700/10000: Avg Running Loss = 4.549063200950623\n",
            "Saving Checkpoint for step :  4800\n",
            "Step 4800/10000: Avg Running Loss = 4.699101099967956\n",
            "Saving Checkpoint for step :  4900\n",
            "Step 4900/10000: Avg Running Loss = 4.707318201065063\n",
            "Batch skipped as captions too long.\n",
            "Saving Checkpoint for step :  5000\n",
            "0 - Target captions:\n",
            " A guy in a chef coat by some boxes of pizza.  \n",
            "0 - predicted_captions:\n",
            " A man is holding a pizza with a a. and a. and a. and a.<|endoftext|> \n",
            "1 - Target captions:\n",
            " some waffles on a plate with fruit on them<|endoftext|><|endoftext|>  \n",
            "1 - predicted_captions:\n",
            " A plate of pizza with a slice of cheese and a... of. a. a<|endoftext|> \n",
            "Step 5000/10000: Avg Running Loss = 4.551717073917389\n",
            "Saving Checkpoint for step :  5100\n",
            "Step 5100/10000: Avg Running Loss = 4.683739855289459\n",
            "Saving Checkpoint for step :  5200\n",
            "Step 5200/10000: Avg Running Loss = 4.56168649673462\n",
            "Saving Checkpoint for step :  5300\n",
            "Step 5300/10000: Avg Running Loss = 4.701900057792663\n",
            "Saving Checkpoint for step :  5400\n",
            "Step 5400/10000: Avg Running Loss = 4.604143455028534\n",
            "Saving Checkpoint for step :  5500\n",
            "Step 5500/10000: Avg Running Loss = 4.553216462135315\n",
            "Saving Checkpoint for step :  5600\n",
            "Step 5600/10000: Avg Running Loss = 4.601985945701599\n",
            "Saving Checkpoint for step :  5700\n",
            "Step 5700/10000: Avg Running Loss = 4.563534829616547\n",
            "Saving Checkpoint for step :  5800\n",
            "Step 5800/10000: Avg Running Loss = 4.646727316379547\n",
            "Saving Checkpoint for step :  5900\n",
            "Step 5900/10000: Avg Running Loss = 4.655141892433167\n",
            "Saving Checkpoint for step :  6000\n",
            "0 - Target captions:\n",
            " A woman in a light blue shirt and dark blue pants holding a tennis racket.   \n",
            "0 - predicted_captions:\n",
            " A woman playing tennis on a court a tennis ball a tennis racket a tennis ball a tennis ball<|endoftext|> \n",
            "1 - Target captions:\n",
            " A woman sitting in the dark while using her Macbook.<|endoftext|><|endoftext|><|endoftext|><|endoftext|><|endoftext|>  \n",
            "1 - predicted_captions:\n",
            " A woman is sitting in a chair in a room. a computer. a. a..<|endoftext|> \n",
            "Step 6000/10000: Avg Running Loss = 4.648058843612671\n",
            "Saving Checkpoint for step :  6100\n",
            "Step 6100/10000: Avg Running Loss = 5.655196423530579\n",
            "Saving Checkpoint for step :  6200\n",
            "Step 6200/10000: Avg Running Loss = 5.673577651977539\n",
            "Saving Checkpoint for step :  6300\n",
            "Step 6300/10000: Avg Running Loss = 5.729609603881836\n",
            "Saving Checkpoint for step :  6400\n",
            "Step 6400/10000: Avg Running Loss = 5.529562058448792\n",
            "Saving Checkpoint for step :  6500\n",
            "Step 6500/10000: Avg Running Loss = 5.616852769851684\n",
            "Saving Checkpoint for step :  6600\n",
            "Step 6600/10000: Avg Running Loss = 5.583078198432922\n",
            "Saving Checkpoint for step :  6700\n",
            "Step 6700/10000: Avg Running Loss = 5.596731951236725\n",
            "Saving Checkpoint for step :  6800\n",
            "Step 6800/10000: Avg Running Loss = 5.642571806907654\n",
            "Batch skipped as captions too long.\n",
            "Saving Checkpoint for step :  6900\n",
            "Step 6900/10000: Avg Running Loss = 5.633145546913147\n",
            "Saving Checkpoint for step :  7000\n",
            "0 - Target captions:\n",
            " A large body of water near a giant clock.  \n",
            "0 - predicted_captions:\n",
            " A boat is on a a a a a. a. a. a. a. a<|endoftext|> \n",
            "1 - Target captions:\n",
            " a toddler sits next to two women on a bench  \n",
            "1 - predicted_captions:\n",
            " A girl a a a a a a a. a. a... a..<|endoftext|> \n",
            "Step 7000/10000: Avg Running Loss = 5.598110632896423\n",
            "Batch skipped as captions too long.\n",
            "Saving Checkpoint for step :  7100\n",
            "Step 7100/10000: Avg Running Loss = 5.702702789306641\n",
            "Saving Checkpoint for step :  7200\n",
            "Step 7200/10000: Avg Running Loss = 5.594715905189514\n",
            "Saving Checkpoint for step :  7300\n",
            "Step 7300/10000: Avg Running Loss = 5.870049757957458\n",
            "Saving Checkpoint for step :  7400\n",
            "Step 7400/10000: Avg Running Loss = 5.542112174034119\n",
            "Saving Checkpoint for step :  7500\n",
            "Step 7500/10000: Avg Running Loss = 5.600026164054871\n",
            "Saving Checkpoint for step :  7600\n",
            "Step 7600/10000: Avg Running Loss = 5.512626867294312\n",
            "Saving Checkpoint for step :  7700\n",
            "Step 7700/10000: Avg Running Loss = 5.5794594097137455\n",
            "Batch skipped as captions too long.\n",
            "Saving Checkpoint for step :  7800\n",
            "Step 7800/10000: Avg Running Loss = 5.445135741233826\n",
            "Batch skipped as captions too long.\n",
            "Saving Checkpoint for step :  7900\n",
            "Step 7900/10000: Avg Running Loss = 5.5024879360198975\n",
            "Saving Checkpoint for step :  8000\n",
            "0 - Target captions:\n",
            " A table with an open pair of scissors and three different rocks.  \n",
            "0 - predicted_captions:\n",
            " A dog is on a a a of a a.........<|endoftext|> \n",
            "1 - Target captions:\n",
            " Man holding a wine bottle in front of an open fridge.   \n",
            "1 - predicted_captions:\n",
            " A man is a a a a a a a a. a. a. a. a<|endoftext|> \n",
            "Step 8000/10000: Avg Running Loss = 5.648018856048584\n",
            "Saving Checkpoint for step :  8100\n",
            "Step 8100/10000: Avg Running Loss = 5.469165859222412\n",
            "Saving Checkpoint for step :  8200\n",
            "Step 8200/10000: Avg Running Loss = 5.448684473037719\n",
            "Saving Checkpoint for step :  8300\n",
            "Step 8300/10000: Avg Running Loss = 5.4147130966186525\n",
            "Saving Checkpoint for step :  8400\n",
            "Step 8400/10000: Avg Running Loss = 5.455022463798523\n",
            "Saving Checkpoint for step :  8500\n",
            "Step 8500/10000: Avg Running Loss = 5.486512198448181\n",
            "Saving Checkpoint for step :  8600\n",
            "Step 8600/10000: Avg Running Loss = 5.43595211982727\n",
            "Saving Checkpoint for step :  8700\n",
            "Step 8700/10000: Avg Running Loss = 5.418569703102111\n",
            "Saving Checkpoint for step :  8800\n",
            "Step 8800/10000: Avg Running Loss = 5.417224912643433\n",
            "Saving Checkpoint for step :  8900\n",
            "Step 8900/10000: Avg Running Loss = 5.536227540969849\n",
            "Saving Checkpoint for step :  9000\n",
            "0 - Target captions:\n",
            " a stuffed animal on a yellow tarp near a tree <|endoftext|>  \n",
            "0 - predicted_captions:\n",
            " A teddy bear in a a a a a a.... a. a.<|endoftext|> \n",
            "1 - Target captions:\n",
            " Display of food in dimly lit area on counter in home.  \n",
            "1 - predicted_captions:\n",
            " A woman eating a a on a a a..........<|endoftext|> \n",
            "Step 9000/10000: Avg Running Loss = 5.45617413520813\n",
            "Saving Checkpoint for step :  9100\n",
            "Step 9100/10000: Avg Running Loss = 5.4871111011505125\n",
            "Saving Checkpoint for step :  9200\n",
            "Step 9200/10000: Avg Running Loss = 5.5377575349807735\n",
            "Saving Checkpoint for step :  9300\n",
            "Step 9300/10000: Avg Running Loss = 5.457709846496582\n",
            "Saving Checkpoint for step :  9400\n",
            "Step 9400/10000: Avg Running Loss = 5.437386982440948\n",
            "Saving Checkpoint for step :  9500\n",
            "Step 9500/10000: Avg Running Loss = 5.593384647369385\n",
            "Batch skipped as captions too long.\n",
            "Saving Checkpoint for step :  9600\n",
            "Step 9600/10000: Avg Running Loss = 5.384887840747833\n",
            "Saving Checkpoint for step :  9700\n",
            "Step 9700/10000: Avg Running Loss = 5.606390688419342\n",
            "Saving Checkpoint for step :  9800\n",
            "Step 9800/10000: Avg Running Loss = 5.553559465408325\n",
            "Saving Checkpoint for step :  9900\n",
            "Step 9900/10000: Avg Running Loss = 5.460915913581848\n",
            "Saving Checkpoint for step :  10000\n",
            "0 - Target captions:\n",
            " The kitchen is equipped with unique antique appliances.<|endoftext|><|endoftext|><|endoftext|><|endoftext|>  \n",
            "0 - predicted_captions:\n",
            " A kitchen with a a a and a a..........<|endoftext|> \n",
            "1 - Target captions:\n",
            " A cluttered desk with a computer, camera, and headphones.  \n",
            "1 - predicted_captions:\n",
            " A computer on a a a a a a a.........<|endoftext|> \n",
            "Reached the max steps. Training stopped.\n"
          ]
        }
      ]
    },
    {
      "cell_type": "code",
      "source": [],
      "metadata": {
        "id": "dDvfZTqLvR_S"
      },
      "execution_count": null,
      "outputs": []
    },
    {
      "cell_type": "code",
      "source": [],
      "metadata": {
        "id": "XHDz3eszvSCm"
      },
      "execution_count": null,
      "outputs": []
    }
  ]
}