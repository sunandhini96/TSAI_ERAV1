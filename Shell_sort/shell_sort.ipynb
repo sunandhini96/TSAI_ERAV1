{
  "nbformat": 4,
  "nbformat_minor": 0,
  "metadata": {
    "colab": {
      "provenance": [],
      "authorship_tag": "ABX9TyPZ3HinPhwIiZ18repKAybI",
      "include_colab_link": true
    },
    "kernelspec": {
      "name": "python3",
      "display_name": "Python 3"
    },
    "language_info": {
      "name": "python"
    }
  },
  "cells": [
    {
      "cell_type": "markdown",
      "metadata": {
        "id": "view-in-github",
        "colab_type": "text"
      },
      "source": [
        "<a href=\"https://colab.research.google.com/github/sunandhini96/TSAI_ERAV1/blob/main/Shell_sort/shell_sort.ipynb\" target=\"_parent\"><img src=\"https://colab.research.google.com/assets/colab-badge.svg\" alt=\"Open In Colab\"/></a>"
      ]
    },
    {
      "cell_type": "markdown",
      "source": [
        "## Shell sort algorithm:\n",
        "\n",
        "1. find out gap/incrementor\n",
        "2. create sublist based on gap and sort them using insertion sort algorithm\n",
        "3. reduce gap and repeat step 3\n",
        "4. stop when gap is 0\n"
      ],
      "metadata": {
        "id": "kC8syfF9nagy"
      }
    },
    {
      "cell_type": "code",
      "execution_count": 4,
      "metadata": {
        "colab": {
          "base_uri": "https://localhost:8080/"
        },
        "id": "yBQP0-cpnUIa",
        "outputId": "2ce7359b-25e2-4f43-ad7c-b024efd06411"
      },
      "outputs": [
        {
          "output_type": "stream",
          "name": "stdout",
          "text": [
            "[0, 2, 3, 5, 6, 7, 9]\n"
          ]
        }
      ],
      "source": [
        "def shellsort(alist):\n",
        "  gap=len(alist)//2\n",
        "  while gap>0:\n",
        "    for index in range(gap,len(alist)):\n",
        "      current_ele=alist[index]\n",
        "      pos=index\n",
        "      while current_ele< alist[pos-gap] and pos>=gap:\n",
        "        alist[pos]=alist[pos-gap]\n",
        "        pos=pos-gap\n",
        "      alist[pos]=current_ele\n",
        "    gap=gap//2\n",
        "\n",
        "alist=[3,9,6,5,2,0,7]\n",
        "shellsort(alist)\n",
        "print(alist)"
      ]
    }
  ]
}